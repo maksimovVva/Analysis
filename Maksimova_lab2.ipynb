{
 "cells": [
  {
   "cell_type": "markdown",
   "metadata": {
    "collapsed": true
   },
   "source": [
    "# Лабораторная работа №2\n",
    "**Максимовой Елизаветы,** \n",
    "**14ПМИ**"
   ]
  },
  {
   "cell_type": "code",
   "execution_count": 52,
   "metadata": {
    "collapsed": true
   },
   "outputs": [],
   "source": [
    "import numpy as np\n",
    "import matplotlib.pyplot as plt\n",
    "import pandas as pd\n",
    "%matplotlib inline"
   ]
  },
  {
   "cell_type": "markdown",
   "metadata": {},
   "source": [
    "**Загружаем данные для анализа,** проводим необходимую обработку данных: удаляем не нужные и сильно коррелированные признаки, отделяем столбец с значением класса от таблицы атрибутов объектов, производим нормализацию данных, делим выборку на тренировочную и тестовую (более подробный анализ и первичная обработка данных представлены в лабораторной работе №1 https://github.com/maksimovVva/Analysis/blob/master/Maksimova_lab1.ipynb)"
   ]
  },
  {
   "cell_type": "code",
   "execution_count": 53,
   "metadata": {
    "scrolled": true
   },
   "outputs": [
    {
     "data": {
      "text/html": [
       "<div>\n",
       "<style>\n",
       "    .dataframe thead tr:only-child th {\n",
       "        text-align: right;\n",
       "    }\n",
       "\n",
       "    .dataframe thead th {\n",
       "        text-align: left;\n",
       "    }\n",
       "\n",
       "    .dataframe tbody tr th {\n",
       "        vertical-align: top;\n",
       "    }\n",
       "</style>\n",
       "<table border=\"1\" class=\"dataframe\">\n",
       "  <thead>\n",
       "    <tr style=\"text-align: right;\">\n",
       "      <th></th>\n",
       "      <th>Class</th>\n",
       "      <th>Specimen Number</th>\n",
       "      <th>Eccentricity</th>\n",
       "      <th>Aspect Ratio</th>\n",
       "      <th>Elongation</th>\n",
       "      <th>Solidity</th>\n",
       "      <th>Stochastic Convexity</th>\n",
       "      <th>Isoperimetric Factor</th>\n",
       "      <th>Maximal Indentation Depth</th>\n",
       "      <th>Lobedness</th>\n",
       "      <th>Average Intensity</th>\n",
       "      <th>Average Contrast</th>\n",
       "      <th>Smoothness</th>\n",
       "      <th>Third moment</th>\n",
       "      <th>Uniformity</th>\n",
       "      <th>Entropy</th>\n",
       "    </tr>\n",
       "  </thead>\n",
       "  <tbody>\n",
       "    <tr>\n",
       "      <th>0</th>\n",
       "      <td>1</td>\n",
       "      <td>1</td>\n",
       "      <td>0.72694</td>\n",
       "      <td>1.4742</td>\n",
       "      <td>0.32396</td>\n",
       "      <td>0.98535</td>\n",
       "      <td>1.00000</td>\n",
       "      <td>0.83592</td>\n",
       "      <td>0.004657</td>\n",
       "      <td>0.003947</td>\n",
       "      <td>0.047790</td>\n",
       "      <td>0.127950</td>\n",
       "      <td>0.016108</td>\n",
       "      <td>0.005232</td>\n",
       "      <td>0.000275</td>\n",
       "      <td>1.17560</td>\n",
       "    </tr>\n",
       "    <tr>\n",
       "      <th>1</th>\n",
       "      <td>1</td>\n",
       "      <td>2</td>\n",
       "      <td>0.74173</td>\n",
       "      <td>1.5257</td>\n",
       "      <td>0.36116</td>\n",
       "      <td>0.98152</td>\n",
       "      <td>0.99825</td>\n",
       "      <td>0.79867</td>\n",
       "      <td>0.005242</td>\n",
       "      <td>0.005002</td>\n",
       "      <td>0.024160</td>\n",
       "      <td>0.090476</td>\n",
       "      <td>0.008119</td>\n",
       "      <td>0.002708</td>\n",
       "      <td>0.000075</td>\n",
       "      <td>0.69659</td>\n",
       "    </tr>\n",
       "    <tr>\n",
       "      <th>2</th>\n",
       "      <td>1</td>\n",
       "      <td>3</td>\n",
       "      <td>0.76722</td>\n",
       "      <td>1.5725</td>\n",
       "      <td>0.38998</td>\n",
       "      <td>0.97755</td>\n",
       "      <td>1.00000</td>\n",
       "      <td>0.80812</td>\n",
       "      <td>0.007457</td>\n",
       "      <td>0.010121</td>\n",
       "      <td>0.011897</td>\n",
       "      <td>0.057445</td>\n",
       "      <td>0.003289</td>\n",
       "      <td>0.000921</td>\n",
       "      <td>0.000038</td>\n",
       "      <td>0.44348</td>\n",
       "    </tr>\n",
       "    <tr>\n",
       "      <th>3</th>\n",
       "      <td>1</td>\n",
       "      <td>4</td>\n",
       "      <td>0.73797</td>\n",
       "      <td>1.4597</td>\n",
       "      <td>0.35376</td>\n",
       "      <td>0.97566</td>\n",
       "      <td>1.00000</td>\n",
       "      <td>0.81697</td>\n",
       "      <td>0.006877</td>\n",
       "      <td>0.008607</td>\n",
       "      <td>0.015950</td>\n",
       "      <td>0.065491</td>\n",
       "      <td>0.004271</td>\n",
       "      <td>0.001154</td>\n",
       "      <td>0.000066</td>\n",
       "      <td>0.58785</td>\n",
       "    </tr>\n",
       "    <tr>\n",
       "      <th>4</th>\n",
       "      <td>1</td>\n",
       "      <td>5</td>\n",
       "      <td>0.82301</td>\n",
       "      <td>1.7707</td>\n",
       "      <td>0.44462</td>\n",
       "      <td>0.97698</td>\n",
       "      <td>1.00000</td>\n",
       "      <td>0.75493</td>\n",
       "      <td>0.007428</td>\n",
       "      <td>0.010042</td>\n",
       "      <td>0.007938</td>\n",
       "      <td>0.045339</td>\n",
       "      <td>0.002051</td>\n",
       "      <td>0.000560</td>\n",
       "      <td>0.000024</td>\n",
       "      <td>0.34214</td>\n",
       "    </tr>\n",
       "  </tbody>\n",
       "</table>\n",
       "</div>"
      ],
      "text/plain": [
       "   Class  Specimen Number  Eccentricity  Aspect Ratio  Elongation  Solidity  \\\n",
       "0      1                1       0.72694        1.4742     0.32396   0.98535   \n",
       "1      1                2       0.74173        1.5257     0.36116   0.98152   \n",
       "2      1                3       0.76722        1.5725     0.38998   0.97755   \n",
       "3      1                4       0.73797        1.4597     0.35376   0.97566   \n",
       "4      1                5       0.82301        1.7707     0.44462   0.97698   \n",
       "\n",
       "   Stochastic Convexity  Isoperimetric Factor  Maximal Indentation Depth  \\\n",
       "0               1.00000               0.83592                   0.004657   \n",
       "1               0.99825               0.79867                   0.005242   \n",
       "2               1.00000               0.80812                   0.007457   \n",
       "3               1.00000               0.81697                   0.006877   \n",
       "4               1.00000               0.75493                   0.007428   \n",
       "\n",
       "   Lobedness  Average Intensity  Average Contrast  Smoothness  Third moment  \\\n",
       "0   0.003947           0.047790          0.127950    0.016108      0.005232   \n",
       "1   0.005002           0.024160          0.090476    0.008119      0.002708   \n",
       "2   0.010121           0.011897          0.057445    0.003289      0.000921   \n",
       "3   0.008607           0.015950          0.065491    0.004271      0.001154   \n",
       "4   0.010042           0.007938          0.045339    0.002051      0.000560   \n",
       "\n",
       "   Uniformity  Entropy  \n",
       "0    0.000275  1.17560  \n",
       "1    0.000075  0.69659  \n",
       "2    0.000038  0.44348  \n",
       "3    0.000066  0.58785  \n",
       "4    0.000024  0.34214  "
      ]
     },
     "execution_count": 53,
     "metadata": {},
     "output_type": "execute_result"
    }
   ],
   "source": [
    "data = pd.read_csv('leaf.csv', sep = ',', engine = 'python', header=None)\n",
    "data.columns = [u'Class', u'Specimen Number', u'Eccentricity', u'Aspect Ratio', u'Elongation',\n",
    "       u'Solidity', u'Stochastic Convexity', u'Isoperimetric Factor', u'Maximal Indentation Depth', u'Lobedness',\n",
    "       u'Average Intensity', u'Average Contrast', u'Smoothness', u'Third moment', u'Uniformity', u'Entropy']\n",
    "data.head()"
   ]
  },
  {
   "cell_type": "markdown",
   "metadata": {},
   "source": [
    "Attribute Information:\n",
    "    1. Class (Species) \n",
    "    2. Specimen Number \n",
    "    3. Eccentricity \n",
    "    4. Aspect Ratio \n",
    "    5. Elongation \n",
    "    6. Solidity \n",
    "    7. Stochastic Convexity \n",
    "    8. Isoperimetric Factor \n",
    "    9. Maximal Indentation Depth \n",
    "    10. Lobedness \n",
    "    11. Average Intensity \n",
    "    12. Average Contrast \n",
    "    13. Smoothness \n",
    "    14. Third moment \n",
    "    15. Uniformity \n",
    "    16. Entropy\n",
    "    \n",
    "This dataset was created by Pedro F. B. Silva and AndrÃ© R. S. MarÃ§al using leaf specimens collected by Rubim Almeida da Silva at the Faculty of Science, University of Porto, Portugal.\n",
    "\n",
    "This dataset consists in a collection of shape and texture features extracted from digital images of leaf specimens originating from a total of 40 different plant species.\n",
    "\n",
    "The task of prediction is to determine the type of plant according to the characteristics of the leaves"
   ]
  },
  {
   "cell_type": "code",
   "execution_count": 54,
   "metadata": {},
   "outputs": [
    {
     "name": "stdout",
     "output_type": "stream",
     "text": [
      "(340, 12)\n",
      "(340,)\n"
     ]
    }
   ],
   "source": [
    "data = data.drop('Average Intensity', axis = 1)\\\n",
    "           .drop('Smoothness', axis = 1)\\\n",
    "           .drop('Specimen Number', axis = 1)\n",
    "y = data['Class']\n",
    "X = data.drop(('Class'), axis = 1)\n",
    "print(X.shape)\n",
    "print(y.shape)"
   ]
  },
  {
   "cell_type": "code",
   "execution_count": 55,
   "metadata": {},
   "outputs": [
    {
     "data": {
      "text/html": [
       "<div>\n",
       "<style>\n",
       "    .dataframe thead tr:only-child th {\n",
       "        text-align: right;\n",
       "    }\n",
       "\n",
       "    .dataframe thead th {\n",
       "        text-align: left;\n",
       "    }\n",
       "\n",
       "    .dataframe tbody tr th {\n",
       "        vertical-align: top;\n",
       "    }\n",
       "</style>\n",
       "<table border=\"1\" class=\"dataframe\">\n",
       "  <thead>\n",
       "    <tr style=\"text-align: right;\">\n",
       "      <th></th>\n",
       "      <th>Eccentricity</th>\n",
       "      <th>Aspect Ratio</th>\n",
       "      <th>Elongation</th>\n",
       "      <th>Solidity</th>\n",
       "      <th>Stochastic Convexity</th>\n",
       "      <th>Isoperimetric Factor</th>\n",
       "      <th>Maximal Indentation Depth</th>\n",
       "      <th>Lobedness</th>\n",
       "      <th>Average Contrast</th>\n",
       "      <th>Third moment</th>\n",
       "      <th>Uniformity</th>\n",
       "      <th>Entropy</th>\n",
       "    </tr>\n",
       "  </thead>\n",
       "  <tbody>\n",
       "    <tr>\n",
       "      <th>count</th>\n",
       "      <td>3.400000e+02</td>\n",
       "      <td>3.400000e+02</td>\n",
       "      <td>3.400000e+02</td>\n",
       "      <td>3.400000e+02</td>\n",
       "      <td>3.400000e+02</td>\n",
       "      <td>3.400000e+02</td>\n",
       "      <td>3.400000e+02</td>\n",
       "      <td>3.400000e+02</td>\n",
       "      <td>3.400000e+02</td>\n",
       "      <td>3.400000e+02</td>\n",
       "      <td>3.400000e+02</td>\n",
       "      <td>3.400000e+02</td>\n",
       "    </tr>\n",
       "    <tr>\n",
       "      <th>mean</th>\n",
       "      <td>-7.836868e-17</td>\n",
       "      <td>1.025324e-16</td>\n",
       "      <td>1.182714e-15</td>\n",
       "      <td>2.612289e-15</td>\n",
       "      <td>3.811330e-15</td>\n",
       "      <td>5.956020e-16</td>\n",
       "      <td>9.404242e-17</td>\n",
       "      <td>3.160870e-16</td>\n",
       "      <td>-8.228712e-17</td>\n",
       "      <td>2.089832e-16</td>\n",
       "      <td>2.559227e-16</td>\n",
       "      <td>-1.320839e-15</td>\n",
       "    </tr>\n",
       "    <tr>\n",
       "      <th>std</th>\n",
       "      <td>1.000000e+00</td>\n",
       "      <td>1.000000e+00</td>\n",
       "      <td>1.000000e+00</td>\n",
       "      <td>1.000000e+00</td>\n",
       "      <td>1.000000e+00</td>\n",
       "      <td>1.000000e+00</td>\n",
       "      <td>1.000000e+00</td>\n",
       "      <td>1.000000e+00</td>\n",
       "      <td>1.000000e+00</td>\n",
       "      <td>1.000000e+00</td>\n",
       "      <td>1.000000e+00</td>\n",
       "      <td>1.000000e+00</td>\n",
       "    </tr>\n",
       "    <tr>\n",
       "      <th>min</th>\n",
       "      <td>-2.893625e+00</td>\n",
       "      <td>-5.515916e-01</td>\n",
       "      <td>-2.076615e+00</td>\n",
       "      <td>-3.652049e+00</td>\n",
       "      <td>-4.757231e+00</td>\n",
       "      <td>-2.081802e+00</td>\n",
       "      <td>-8.945736e-01</td>\n",
       "      <td>-5.024633e-01</td>\n",
       "      <td>-1.757048e+00</td>\n",
       "      <td>-1.076344e+00</td>\n",
       "      <td>-8.814640e-01</td>\n",
       "      <td>-1.698253e+00</td>\n",
       "    </tr>\n",
       "    <tr>\n",
       "      <th>25%</th>\n",
       "      <td>-8.123989e-01</td>\n",
       "      <td>-4.728318e-01</td>\n",
       "      <td>-8.392240e-01</td>\n",
       "      <td>-1.176756e-01</td>\n",
       "      <td>1.950257e-01</td>\n",
       "      <td>-8.477669e-01</td>\n",
       "      <td>-7.212939e-01</td>\n",
       "      <td>-4.880009e-01</td>\n",
       "      <td>-7.939332e-01</td>\n",
       "      <td>-7.268709e-01</td>\n",
       "      <td>-6.604173e-01</td>\n",
       "      <td>-7.587023e-01</td>\n",
       "    </tr>\n",
       "    <tr>\n",
       "      <th>50%</th>\n",
       "      <td>2.092823e-01</td>\n",
       "      <td>-3.345309e-01</td>\n",
       "      <td>-6.087142e-02</td>\n",
       "      <td>3.835711e-01</td>\n",
       "      <td>4.275402e-01</td>\n",
       "      <td>2.203195e-01</td>\n",
       "      <td>-3.495692e-01</td>\n",
       "      <td>-4.042074e-01</td>\n",
       "      <td>-9.949592e-02</td>\n",
       "      <td>-2.797381e-01</td>\n",
       "      <td>-3.442725e-01</td>\n",
       "      <td>-1.456430e-01</td>\n",
       "    </tr>\n",
       "    <tr>\n",
       "      <th>75%</th>\n",
       "      <td>8.412579e-01</td>\n",
       "      <td>-3.736376e-02</td>\n",
       "      <td>6.115670e-01</td>\n",
       "      <td>6.345107e-01</td>\n",
       "      <td>4.885590e-01</td>\n",
       "      <td>7.791005e-01</td>\n",
       "      <td>2.719098e-01</td>\n",
       "      <td>-1.033170e-01</td>\n",
       "      <td>7.570472e-01</td>\n",
       "      <td>4.494055e-01</td>\n",
       "      <td>2.988933e-01</td>\n",
       "      <td>6.701592e-01</td>\n",
       "    </tr>\n",
       "    <tr>\n",
       "      <th>max</th>\n",
       "      <td>1.338651e+00</td>\n",
       "      <td>6.386117e+00</td>\n",
       "      <td>2.221971e+00</td>\n",
       "      <td>7.826495e-01</td>\n",
       "      <td>4.885590e-01</td>\n",
       "      <td>1.502892e+00</td>\n",
       "      <td>4.190168e+00</td>\n",
       "      <td>6.427570e+00</td>\n",
       "      <td>3.013427e+00</td>\n",
       "      <td>4.506561e+00</td>\n",
       "      <td>5.907140e+00</td>\n",
       "      <td>2.643174e+00</td>\n",
       "    </tr>\n",
       "  </tbody>\n",
       "</table>\n",
       "</div>"
      ],
      "text/plain": [
       "       Eccentricity  Aspect Ratio    Elongation      Solidity  \\\n",
       "count  3.400000e+02  3.400000e+02  3.400000e+02  3.400000e+02   \n",
       "mean  -7.836868e-17  1.025324e-16  1.182714e-15  2.612289e-15   \n",
       "std    1.000000e+00  1.000000e+00  1.000000e+00  1.000000e+00   \n",
       "min   -2.893625e+00 -5.515916e-01 -2.076615e+00 -3.652049e+00   \n",
       "25%   -8.123989e-01 -4.728318e-01 -8.392240e-01 -1.176756e-01   \n",
       "50%    2.092823e-01 -3.345309e-01 -6.087142e-02  3.835711e-01   \n",
       "75%    8.412579e-01 -3.736376e-02  6.115670e-01  6.345107e-01   \n",
       "max    1.338651e+00  6.386117e+00  2.221971e+00  7.826495e-01   \n",
       "\n",
       "       Stochastic Convexity  Isoperimetric Factor  Maximal Indentation Depth  \\\n",
       "count          3.400000e+02          3.400000e+02               3.400000e+02   \n",
       "mean           3.811330e-15          5.956020e-16               9.404242e-17   \n",
       "std            1.000000e+00          1.000000e+00               1.000000e+00   \n",
       "min           -4.757231e+00         -2.081802e+00              -8.945736e-01   \n",
       "25%            1.950257e-01         -8.477669e-01              -7.212939e-01   \n",
       "50%            4.275402e-01          2.203195e-01              -3.495692e-01   \n",
       "75%            4.885590e-01          7.791005e-01               2.719098e-01   \n",
       "max            4.885590e-01          1.502892e+00               4.190168e+00   \n",
       "\n",
       "          Lobedness  Average Contrast  Third moment    Uniformity  \\\n",
       "count  3.400000e+02      3.400000e+02  3.400000e+02  3.400000e+02   \n",
       "mean   3.160870e-16     -8.228712e-17  2.089832e-16  2.559227e-16   \n",
       "std    1.000000e+00      1.000000e+00  1.000000e+00  1.000000e+00   \n",
       "min   -5.024633e-01     -1.757048e+00 -1.076344e+00 -8.814640e-01   \n",
       "25%   -4.880009e-01     -7.939332e-01 -7.268709e-01 -6.604173e-01   \n",
       "50%   -4.042074e-01     -9.949592e-02 -2.797381e-01 -3.442725e-01   \n",
       "75%   -1.033170e-01      7.570472e-01  4.494055e-01  2.988933e-01   \n",
       "max    6.427570e+00      3.013427e+00  4.506561e+00  5.907140e+00   \n",
       "\n",
       "            Entropy  \n",
       "count  3.400000e+02  \n",
       "mean  -1.320839e-15  \n",
       "std    1.000000e+00  \n",
       "min   -1.698253e+00  \n",
       "25%   -7.587023e-01  \n",
       "50%   -1.456430e-01  \n",
       "75%    6.701592e-01  \n",
       "max    2.643174e+00  "
      ]
     },
     "execution_count": 55,
     "metadata": {},
     "output_type": "execute_result"
    }
   ],
   "source": [
    "X = (X - X.mean(axis = 0))/X.std(axis = 0)\n",
    "X.describe()"
   ]
  },
  {
   "cell_type": "code",
   "execution_count": 56,
   "metadata": {
    "collapsed": true
   },
   "outputs": [],
   "source": [
    "from sklearn.model_selection import train_test_split\n",
    "X_train, X_test, y_train, y_test = train_test_split(X, y, test_size = 0.3, random_state = 7)\n",
    "N_test, _ = X_test.shape"
   ]
  },
  {
   "cell_type": "markdown",
   "metadata": {},
   "source": [
    "**Обучаем классификатор:**\n"
   ]
  },
  {
   "cell_type": "code",
   "execution_count": 57,
   "metadata": {},
   "outputs": [
    {
     "data": {
      "text/plain": [
       "MLPClassifier(activation='logistic', alpha=0.0001, batch_size='auto',\n",
       "       beta_1=0.9, beta_2=0.999, early_stopping=False, epsilon=1e-08,\n",
       "       hidden_layer_sizes=(100,), learning_rate='constant',\n",
       "       learning_rate_init=0.001, max_iter=200, momentum=0.9,\n",
       "       nesterovs_momentum=True, power_t=0.5, random_state=42, shuffle=True,\n",
       "       solver='lbfgs', tol=0.0001, validation_fraction=0.1, verbose=False,\n",
       "       warm_start=False)"
      ]
     },
     "execution_count": 57,
     "metadata": {},
     "output_type": "execute_result"
    }
   ],
   "source": [
    "from sklearn.neural_network import MLPClassifier\n",
    "mlp_model = MLPClassifier(hidden_layer_sizes = (100,), solver = 'lbfgs', \n",
    "                          activation = 'logistic', random_state = 42)\n",
    "mlp_model.fit(X_train, y_train)"
   ]
  },
  {
   "cell_type": "markdown",
   "metadata": {},
   "source": [
    "Классифицируем некоторый объект под индексом \"30\" из тестовой выборки:"
   ]
  },
  {
   "cell_type": "code",
   "execution_count": 58,
   "metadata": {},
   "outputs": [
    {
     "data": {
      "text/html": [
       "<div>\n",
       "<style>\n",
       "    .dataframe thead tr:only-child th {\n",
       "        text-align: right;\n",
       "    }\n",
       "\n",
       "    .dataframe thead th {\n",
       "        text-align: left;\n",
       "    }\n",
       "\n",
       "    .dataframe tbody tr th {\n",
       "        vertical-align: top;\n",
       "    }\n",
       "</style>\n",
       "<table border=\"1\" class=\"dataframe\">\n",
       "  <thead>\n",
       "    <tr style=\"text-align: right;\">\n",
       "      <th></th>\n",
       "      <th>Eccentricity</th>\n",
       "      <th>Aspect Ratio</th>\n",
       "      <th>Elongation</th>\n",
       "      <th>Solidity</th>\n",
       "      <th>Stochastic Convexity</th>\n",
       "      <th>Isoperimetric Factor</th>\n",
       "      <th>Maximal Indentation Depth</th>\n",
       "      <th>Lobedness</th>\n",
       "      <th>Average Contrast</th>\n",
       "      <th>Third moment</th>\n",
       "      <th>Uniformity</th>\n",
       "      <th>Entropy</th>\n",
       "    </tr>\n",
       "  </thead>\n",
       "  <tbody>\n",
       "    <tr>\n",
       "      <th>80</th>\n",
       "      <td>1.28839</td>\n",
       "      <td>1.809047</td>\n",
       "      <td>1.773823</td>\n",
       "      <td>0.546692</td>\n",
       "      <td>0.442838</td>\n",
       "      <td>-1.203152</td>\n",
       "      <td>-0.405642</td>\n",
       "      <td>-0.421459</td>\n",
       "      <td>-0.721695</td>\n",
       "      <td>-0.684196</td>\n",
       "      <td>-0.670519</td>\n",
       "      <td>-0.723309</td>\n",
       "    </tr>\n",
       "  </tbody>\n",
       "</table>\n",
       "</div>"
      ],
      "text/plain": [
       "    Eccentricity  Aspect Ratio  Elongation  Solidity  Stochastic Convexity  \\\n",
       "80       1.28839      1.809047    1.773823  0.546692              0.442838   \n",
       "\n",
       "    Isoperimetric Factor  Maximal Indentation Depth  Lobedness  \\\n",
       "80             -1.203152                  -0.405642  -0.421459   \n",
       "\n",
       "    Average Contrast  Third moment  Uniformity   Entropy  \n",
       "80         -0.721695     -0.684196   -0.670519 -0.723309  "
      ]
     },
     "execution_count": 58,
     "metadata": {},
     "output_type": "execute_result"
    }
   ],
   "source": [
    "No = 30\n",
    "leaf = X_test[No:No+1]\n",
    "cls = y_test[No:No+1]\n",
    "leaf.head()"
   ]
  },
  {
   "cell_type": "code",
   "execution_count": 59,
   "metadata": {},
   "outputs": [
    {
     "data": {
      "text/plain": [
       "80    8\n",
       "Name: Class, dtype: int64"
      ]
     },
     "execution_count": 59,
     "metadata": {},
     "output_type": "execute_result"
    }
   ],
   "source": [
    "cls"
   ]
  },
  {
   "cell_type": "code",
   "execution_count": 60,
   "metadata": {},
   "outputs": [
    {
     "data": {
      "text/plain": [
       "array([8], dtype=int64)"
      ]
     },
     "execution_count": 60,
     "metadata": {},
     "output_type": "execute_result"
    }
   ],
   "source": [
    "mlp_model.predict(leaf)"
   ]
  },
  {
   "cell_type": "markdown",
   "metadata": {},
   "source": [
    "На данном объекте классификатор сработал правильно!"
   ]
  },
  {
   "cell_type": "markdown",
   "metadata": {},
   "source": [
    "**Проверяем качество классификатора:**"
   ]
  },
  {
   "cell_type": "code",
   "execution_count": 61,
   "metadata": {
    "collapsed": true
   },
   "outputs": [],
   "source": [
    "y_train_pred = mlp_model.predict(X_train)\n",
    "y_test_pred = mlp_model.predict(X_test)"
   ]
  },
  {
   "cell_type": "markdown",
   "metadata": {},
   "source": [
    "Посчитаем ошибки на обучающей и тестовой выборках:"
   ]
  },
  {
   "cell_type": "code",
   "execution_count": 62,
   "metadata": {},
   "outputs": [
    {
     "name": "stdout",
     "output_type": "stream",
     "text": [
      "0.0 0.313725490196\n"
     ]
    }
   ],
   "source": [
    "print(np.mean(y_train != y_train_pred), np.mean(y_test != y_test_pred))"
   ]
  },
  {
   "cell_type": "markdown",
   "metadata": {},
   "source": [
    "# Подбор гиперпараметров\n",
    "\n",
    "Подберем оптимальное значение параметра регуляризации alpha"
   ]
  },
  {
   "cell_type": "markdown",
   "metadata": {},
   "source": [
    "Способ 1: при помощи цикла"
   ]
  },
  {
   "cell_type": "code",
   "execution_count": 63,
   "metadata": {
    "collapsed": true
   },
   "outputs": [],
   "source": [
    "alpha_arr = np.logspace(-3, 2, 60)\n",
    "test_err = []\n",
    "train_err = []\n",
    "for alpha in alpha_arr:\n",
    "    mlp_model = MLPClassifier(alpha = alpha, hidden_layer_sizes = (100,), \n",
    "                              solver = 'lbfgs', activation = 'logistic', random_state = 42)\n",
    "    mlp_model.fit(X_train, y_train)\n",
    "\n",
    "    y_train_pred = mlp_model.predict(X_train)\n",
    "    y_test_pred = mlp_model.predict(X_test)\n",
    "    train_err.append(np.mean(y_train != y_train_pred))\n",
    "    test_err.append(np.mean(y_test != y_test_pred))"
   ]
  },
  {
   "cell_type": "markdown",
   "metadata": {},
   "source": [
    "Визуализируем на графике значения ошибок на тренировочной и тестовой выборке при обучении модели с разными значениями alpha:"
   ]
  },
  {
   "cell_type": "code",
   "execution_count": 64,
   "metadata": {},
   "outputs": [
    {
     "data": {
      "image/png": "[encoded data removed]",
      "text/plain": [
       "<matplotlib.figure.Figure at 0x10c9310>"
      ]
     },
     "metadata": {},
     "output_type": "display_data"
    }
   ],
   "source": [
    "plt.semilogx(alpha_arr, train_err, 'b-o', label = 'train')\n",
    "plt.semilogx(alpha_arr, test_err, 'r-o', label = 'test')\n",
    "plt.xlim([np.max(alpha_arr), np.min(alpha_arr)])\n",
    "plt.title('Error vs. alpha')\n",
    "plt.xlabel('alpha')\n",
    "plt.ylabel('error')\n",
    "plt.legend()\n",
    "pass"
   ]
  },
  {
   "cell_type": "markdown",
   "metadata": {},
   "source": [
    "Получаем, что в данном диапозоне значений alpha минимальные ошибки на тренировочной и тестовой выборке равны:"
   ]
  },
  {
   "cell_type": "code",
   "execution_count": 65,
   "metadata": {},
   "outputs": [
    {
     "name": "stdout",
     "output_type": "stream",
     "text": [
      "0.0 0.205882352941\n"
     ]
    }
   ],
   "source": [
    "min_train_err = np.min(train_err)\n",
    "min_test_err = np.min(test_err)\n",
    "print(min_train_err, min_test_err)"
   ]
  },
  {
   "cell_type": "markdown",
   "metadata": {},
   "source": [
    "а оптимальные значения alpha равны:"
   ]
  },
  {
   "cell_type": "code",
   "execution_count": 66,
   "metadata": {},
   "outputs": [
    {
     "name": "stdout",
     "output_type": "stream",
     "text": [
      "[ 0.51506781]\n"
     ]
    }
   ],
   "source": [
    "alpha_opt = alpha_arr[test_err == min_test_err]\n",
    "print(alpha_opt)"
   ]
  },
  {
   "cell_type": "code",
   "execution_count": 67,
   "metadata": {
    "collapsed": true
   },
   "outputs": [],
   "source": [
    "alpha_opt = alpha_opt[0]"
   ]
  },
  {
   "cell_type": "markdown",
   "metadata": {},
   "source": [
    "### Классификатор при найденном _оптимальном_ значении `alpha`:"
   ]
  },
  {
   "cell_type": "markdown",
   "metadata": {},
   "source": [
    "Повторим обучение с заданным параметром alpha:"
   ]
  },
  {
   "cell_type": "code",
   "execution_count": 100,
   "metadata": {},
   "outputs": [
    {
     "name": "stdout",
     "output_type": "stream",
     "text": [
      "0.0\n",
      "0.225490196078\n"
     ]
    }
   ],
   "source": [
    "mlp_model = MLPClassifier(alpha = alpha_opt, hidden_layer_sizes = (100,),\n",
    "                          solver = 'lbfgs', activation = 'logistic', random_state = 42)\n",
    "mlp_model.fit(X_train, y_train)\n",
    "\n",
    "y_train_pred = mlp_model.predict(X_train)\n",
    "y_test_pred = mlp_model.predict(X_test)\n",
    "print(np.mean(y_train != y_train_pred))\n",
    "print(np.mean(y_test != y_test_pred))"
   ]
  },
  {
   "cell_type": "markdown",
   "metadata": {},
   "source": [
    "Способ 2: при помощи GridSearchCV"
   ]
  },
  {
   "cell_type": "code",
   "execution_count": 69,
   "metadata": {
    "collapsed": true
   },
   "outputs": [],
   "source": [
    "from sklearn.model_selection import GridSearchCV"
   ]
  },
  {
   "cell_type": "code",
   "execution_count": 85,
   "metadata": {},
   "outputs": [
    {
     "name": "stdout",
     "output_type": "stream",
     "text": [
      "Best \"alpha\"= 0.00855467253557\n"
     ]
    }
   ],
   "source": [
    "alphArray = np.logspace(-3, 2, 60)\n",
    "mlp_modelCV = MLPClassifier(hidden_layer_sizes = (100,),\n",
    "                          solver = 'lbfgs', activation = 'logistic', random_state = 42)\n",
    "cv = GridSearchCV(mlp_modelCV, {'alpha': alphArray}, cv=4)\n",
    "cv.fit(X_train, y_train)\n",
    "print(\"Best \\\"alpha\\\"=\",cv.best_params_['alpha'])"
   ]
  },
  {
   "cell_type": "markdown",
   "metadata": {},
   "source": [
    "Получив оптимальное значение alpha строим классификатор:"
   ]
  },
  {
   "cell_type": "code",
   "execution_count": 86,
   "metadata": {},
   "outputs": [
    {
     "name": "stdout",
     "output_type": "stream",
     "text": [
      "0.0\n",
      "0.225490196078\n"
     ]
    }
   ],
   "source": [
    "alpha_opt = cv.best_params_['alpha']\n",
    "mlp_modelCV = MLPClassifier(alpha = alpha_opt, hidden_layer_sizes = (100,),\n",
    "                          solver = 'lbfgs', activation = 'logistic', random_state = 42)\n",
    "mlp_modelCV.fit(X_train, y_train)\n",
    "\n",
    "y_train_predCV = mlp_modelCV.predict(X_train)\n",
    "y_test_predCV = mlp_modelCV.predict(X_test)\n",
    "print(np.mean(y_train != y_train_predCV))\n",
    "print(np.mean(y_test != y_test_predCV))"
   ]
  },
  {
   "cell_type": "code",
   "execution_count": null,
   "metadata": {
    "collapsed": true
   },
   "outputs": [],
   "source": []
  },
  {
   "cell_type": "markdown",
   "metadata": {},
   "source": [
    "## Матрица рассогласования:"
   ]
  },
  {
   "cell_type": "code",
   "execution_count": 101,
   "metadata": {},
   "outputs": [
    {
     "name": "stdout",
     "output_type": "stream",
     "text": [
      "[[2 0 0 0 0 0 0 0 0 0 0 0 1 0 0 0 0 0 0 1 0 0 0 0 0 0 0 0 0 0]\n",
      " [0 2 0 0 0 0 0 0 0 0 0 0 0 0 0 0 0 0 0 0 0 0 0 0 0 0 0 0 0 0]\n",
      " [0 0 2 0 0 0 0 0 1 0 0 0 0 0 0 0 0 0 0 0 0 0 0 0 0 0 0 0 0 0]\n",
      " [0 0 0 1 0 0 0 0 0 0 0 0 0 0 0 0 0 0 0 0 0 0 0 0 0 0 0 0 0 0]\n",
      " [0 0 0 0 1 0 0 0 0 0 0 0 0 0 0 0 0 0 0 0 0 0 0 0 0 0 0 0 0 1]\n",
      " [0 0 0 0 0 4 0 0 0 0 0 0 0 0 0 0 0 0 0 0 0 0 0 0 0 0 0 0 0 0]\n",
      " [0 1 0 0 0 0 2 0 0 0 0 0 0 0 0 0 0 0 0 0 0 0 0 0 0 0 0 0 0 0]\n",
      " [0 0 0 0 0 0 0 4 0 0 0 0 0 0 0 0 0 0 0 0 0 0 0 0 0 0 0 0 0 0]\n",
      " [0 0 0 0 0 0 0 0 1 0 0 0 0 0 0 0 0 0 0 0 0 0 0 0 0 0 0 0 0 0]\n",
      " [0 0 0 0 0 0 0 0 4 4 0 0 0 0 0 0 0 0 0 0 0 0 0 0 0 0 0 0 0 0]\n",
      " [0 0 0 0 0 0 0 0 0 0 7 0 0 0 0 0 0 0 0 0 0 0 0 0 0 0 0 0 0 0]\n",
      " [0 0 0 0 0 0 1 0 0 0 0 2 0 0 0 0 0 0 0 0 0 0 0 0 0 0 0 0 0 0]\n",
      " [0 0 0 0 0 0 0 0 0 0 0 0 2 0 0 0 0 0 0 0 1 0 0 0 0 0 0 0 0 0]\n",
      " [0 0 0 0 0 0 0 0 0 0 0 1 0 3 0 0 0 0 0 0 0 1 0 0 0 0 0 0 0 0]\n",
      " [0 0 0 0 0 0 0 0 0 0 0 0 0 0 1 0 0 0 0 0 0 0 0 0 0 0 0 0 0 0]\n",
      " [0 0 0 0 0 0 0 0 0 0 0 0 0 0 0 5 0 0 0 0 0 0 0 0 0 0 0 0 1 0]\n",
      " [0 0 0 0 0 0 0 0 0 0 0 0 0 0 0 0 3 0 0 0 0 0 0 0 0 0 0 0 0 0]\n",
      " [0 0 0 0 0 0 0 0 0 0 0 0 0 0 0 0 0 3 0 0 0 0 0 0 0 0 0 0 0 0]\n",
      " [0 0 1 0 0 0 0 0 0 0 0 0 0 0 0 0 0 0 2 0 0 0 0 0 0 0 0 0 0 0]\n",
      " [0 0 0 0 0 0 0 0 0 0 0 0 0 0 0 0 0 0 0 0 0 0 0 0 0 0 0 0 0 0]\n",
      " [0 1 0 0 0 0 0 0 0 0 0 0 0 0 0 0 0 0 0 0 1 0 0 0 0 0 0 0 0 0]\n",
      " [0 0 0 0 0 0 0 0 0 0 0 0 0 1 0 0 0 0 0 0 0 0 0 0 0 0 0 0 0 0]\n",
      " [0 0 0 0 0 0 0 0 0 0 0 0 0 0 0 0 0 0 0 0 0 0 4 0 0 0 0 0 0 0]\n",
      " [0 0 0 0 0 0 0 0 0 0 0 0 0 0 0 0 0 0 0 0 0 0 0 3 0 0 0 0 0 0]\n",
      " [0 0 0 0 0 0 0 0 0 0 0 0 0 0 0 0 0 0 0 0 0 0 0 0 4 0 0 0 0 0]\n",
      " [0 0 0 0 0 0 0 0 0 0 0 0 0 0 0 0 0 0 0 2 0 0 0 0 0 2 1 0 0 0]\n",
      " [0 0 0 0 0 0 0 0 0 0 0 0 1 0 0 0 0 0 0 0 0 0 0 0 0 0 2 0 0 0]\n",
      " [0 0 0 0 0 0 0 0 0 0 0 0 0 0 0 0 0 0 0 0 0 0 0 0 0 0 0 5 0 0]\n",
      " [0 0 0 0 0 0 0 0 0 0 0 0 0 0 0 0 0 0 0 0 0 1 0 0 0 0 1 0 3 0]\n",
      " [0 0 0 0 0 0 0 0 0 0 0 0 0 0 0 0 0 0 0 0 0 0 0 0 0 0 0 0 0 4]]\n"
     ]
    }
   ],
   "source": [
    "from sklearn.metrics import confusion_matrix\n",
    "print(confusion_matrix(y_test_pred, y_test))"
   ]
  },
  {
   "cell_type": "code",
   "execution_count": 103,
   "metadata": {},
   "outputs": [
    {
     "data": {
      "image/png": "[encoded data removed]",
      "text/plain": [
       "<matplotlib.figure.Figure at 0x5192a10>"
      ]
     },
     "metadata": {},
     "output_type": "display_data"
    }
   ],
   "source": [
    "M = confusion_matrix(y_test_pred, y_test)\n",
    "M = np.sqrt(M)\n",
    "plt.axes([1.5, 1.5, 1.5, 1.5])\n",
    "plt.axis('scaled')\n",
    "plt.imshow(M, interpolation = 'nearest')\n",
    "plt.set_cmap('binary')\n",
    "plt.xticks(range(31))\n",
    "plt.yticks(range(31))\n",
    "plt.xlabel(\"true label\")\n",
    "plt.ylabel(\"predicted label\")\n",
    "plt.colorbar()\n",
    "pass"
   ]
  },
  {
   "cell_type": "markdown",
   "metadata": {},
   "source": [
    "## Другие метрики качества:"
   ]
  },
  {
   "cell_type": "code",
   "execution_count": 105,
   "metadata": {},
   "outputs": [
    {
     "name": "stdout",
     "output_type": "stream",
     "text": [
      "             precision    recall  f1-score   support\n",
      "\n",
      "          1       0.50      1.00      0.67         2\n",
      "          2       1.00      0.50      0.67         4\n",
      "          3       0.67      0.67      0.67         3\n",
      "          4       1.00      1.00      1.00         1\n",
      "          5       0.50      1.00      0.67         1\n",
      "          6       1.00      1.00      1.00         4\n",
      "          7       0.67      0.67      0.67         3\n",
      "          8       1.00      1.00      1.00         4\n",
      "          9       1.00      0.17      0.29         6\n",
      "         10       0.50      1.00      0.67         4\n",
      "         11       1.00      1.00      1.00         7\n",
      "         12       0.67      0.67      0.67         3\n",
      "         13       0.67      0.50      0.57         4\n",
      "         14       0.60      0.75      0.67         4\n",
      "         15       1.00      1.00      1.00         1\n",
      "         22       0.83      1.00      0.91         5\n",
      "         23       1.00      1.00      1.00         3\n",
      "         24       1.00      1.00      1.00         3\n",
      "         25       0.67      1.00      0.80         2\n",
      "         26       0.00      0.00      0.00         3\n",
      "         27       0.50      0.50      0.50         2\n",
      "         28       0.00      0.00      0.00         2\n",
      "         29       1.00      1.00      1.00         4\n",
      "         30       1.00      1.00      1.00         3\n",
      "         31       1.00      1.00      1.00         4\n",
      "         32       0.40      1.00      0.57         2\n",
      "         33       0.67      0.50      0.57         4\n",
      "         34       1.00      1.00      1.00         5\n",
      "         35       0.60      0.75      0.67         4\n",
      "         36       1.00      0.80      0.89         5\n",
      "\n",
      "avg / total       0.79      0.77      0.75       102\n",
      "\n"
     ]
    },
    {
     "name": "stderr",
     "output_type": "stream",
     "text": [
      "C:\\Users\\maks_\\Anaconda3\\lib\\site-packages\\sklearn\\metrics\\classification.py:1135: UndefinedMetricWarning: Precision and F-score are ill-defined and being set to 0.0 in labels with no predicted samples.\n",
      "  'precision', 'predicted', average, warn_for)\n"
     ]
    }
   ],
   "source": [
    "from sklearn.metrics import classification_report\n",
    "print(classification_report(y_test, y_test_pred))"
   ]
  },
  {
   "cell_type": "markdown",
   "metadata": {
    "collapsed": true
   },
   "source": [
    "${\\rm error} = \\frac{{\\rm FP} + {\\rm FN}}{{\\rm TP} + {\\rm TN} + {\\rm FP} + {\\rm FN}}$ \n",
    "\n",
    "${\\rm accuracy} = \\frac{{\\rm TP} + {\\rm TN}}{{\\rm TP} + {\\rm TN} + {\\rm FP} + {\\rm FN}} = 1 - {\\rm error}$ \n",
    "\n",
    "${\\rm precision} = \\frac{{\\rm TP}}{{\\rm FP}+{\\rm TP}}$ \n",
    "\n",
    "$F_1 = 2\\cdot\\frac{{\\rm precision}\\cdot{\\rm recall}}{{\\rm precision}+{\\rm recall}}$ \n",
    "\n",
    "\n"
   ]
  },
  {
   "cell_type": "markdown",
   "metadata": {
    "collapsed": true
   },
   "source": [
    "## Все ошибки:"
   ]
  },
  {
   "cell_type": "markdown",
   "metadata": {},
   "source": [
    "Выведем все объекты с атрибутами, для которых классификатор не смог правильно определить класс"
   ]
  },
  {
   "cell_type": "code",
   "execution_count": 155,
   "metadata": {},
   "outputs": [
    {
     "name": "stdout",
     "output_type": "stream",
     "text": [
      "\n",
      "Wrong class =  14 \n",
      "Object:       Eccentricity  Aspect Ratio  Elongation  Solidity  Stochastic Convexity  \\\n",
      "129      0.917262       0.06856     0.60639  0.213908              0.412329   \n",
      "\n",
      "     Isoperimetric Factor  Maximal Indentation Depth  Lobedness  \\\n",
      "129             -0.070765                  -0.421352  -0.426002   \n",
      "\n",
      "     Average Contrast  Third moment  Uniformity   Entropy  \n",
      "129          0.042908     -0.229295   -0.160354  0.290107  \n",
      "\n",
      "Wrong class =  32 \n",
      "Object:       Eccentricity  Aspect Ratio  Elongation  Solidity  Stochastic Convexity  \\\n",
      "217      0.517955     -0.230166   -0.133296  0.607753              0.473348   \n",
      "\n",
      "     Isoperimetric Factor  Maximal Indentation Depth  Lobedness  \\\n",
      "217              0.702502                  -0.548403  -0.457985   \n",
      "\n",
      "     Average Contrast  Third moment  Uniformity  Entropy  \n",
      "217         -0.705208     -0.559605   -0.738126 -0.82224  \n",
      "\n",
      "Wrong class =  10 \n",
      "Object:      Eccentricity  Aspect Ratio  Elongation  Solidity  Stochastic Convexity  \\\n",
      "84     -0.626343     -0.429777   -0.574234 -0.122713               0.35131   \n",
      "\n",
      "    Isoperimetric Factor  Maximal Indentation Depth  Lobedness  \\\n",
      "84             -0.420461                   0.273815  -0.102098   \n",
      "\n",
      "    Average Contrast  Third moment  Uniformity   Entropy  \n",
      "84           1.30304      0.615037    2.677491  1.603427  \n",
      "\n",
      "Wrong class =  35 \n",
      "Object:       Eccentricity  Aspect Ratio  Elongation  Solidity  Stochastic Convexity  \\\n",
      "302      0.480367     -0.219469   -0.209069  0.646658              0.473348   \n",
      "\n",
      "     Isoperimetric Factor  Maximal Indentation Depth  Lobedness  \\\n",
      "302              0.562201                  -0.775906  -0.494249   \n",
      "\n",
      "     Average Contrast  Third moment  Uniformity   Entropy  \n",
      "302          0.336778     -0.176935    1.343795  0.552395  \n",
      "\n",
      "Wrong class =  35 \n",
      "Object:       Eccentricity  Aspect Ratio  Elongation  Solidity  Stochastic Convexity  \\\n",
      "245      0.945297      0.098225    0.594221  0.685562              0.488559   \n",
      "\n",
      "     Isoperimetric Factor  Maximal Indentation Depth  Lobedness  \\\n",
      "245              0.291252                  -0.840515  -0.499631   \n",
      "\n",
      "     Average Contrast  Third moment  Uniformity   Entropy  \n",
      "245          1.216075      0.708046    1.078752  1.531785  \n",
      "\n",
      "Wrong class =  1 \n",
      "Object:       Eccentricity  Aspect Ratio  Elongation  Solidity  Stochastic Convexity  \\\n",
      "139       0.09359     -0.349479   -0.837959  0.703357              0.488559   \n",
      "\n",
      "     Isoperimetric Factor  Maximal Indentation Depth  Lobedness  \\\n",
      "139              1.284579                  -0.765697    -0.4932   \n",
      "\n",
      "     Average Contrast  Third moment  Uniformity   Entropy  \n",
      "139         -0.189257      0.016789   -0.781395 -0.963796  \n",
      "\n",
      "Wrong class =  3 \n",
      "Object:      Eccentricity  Aspect Ratio  Elongation  Solidity  Stochastic Convexity  \\\n",
      "88      -1.21911     -0.469677    -1.24147  0.350424              0.488559   \n",
      "\n",
      "    Isoperimetric Factor  Maximal Indentation Depth  Lobedness  \\\n",
      "88               0.61948                  -0.622752  -0.472804   \n",
      "\n",
      "    Average Contrast  Third moment  Uniformity   Entropy  \n",
      "88         -0.395005     -0.229352   -0.790182 -1.022751  \n",
      "\n",
      "Wrong class =  27 \n",
      "Object:      Eccentricity  Aspect Ratio  Elongation  Solidity  Stochastic Convexity  \\\n",
      "15      0.709016     -0.165911    0.004497   0.72185              0.488559   \n",
      "\n",
      "    Isoperimetric Factor  Maximal Indentation Depth  Lobedness  \\\n",
      "15              0.788559                   -0.82698  -0.498684   \n",
      "\n",
      "    Average Contrast  Third moment  Uniformity   Entropy  \n",
      "15         -0.626148     -0.693905   -0.437333 -0.371341  \n",
      "\n",
      "Wrong class =  10 \n",
      "Object:      Eccentricity  Aspect Ratio  Elongation  Solidity  Stochastic Convexity  \\\n",
      "81     -1.160016     -0.474909   -0.838521 -0.003295               0.45805   \n",
      "\n",
      "    Isoperimetric Factor  Maximal Indentation Depth  Lobedness  \\\n",
      "81             -0.083912                  -0.186095  -0.344576   \n",
      "\n",
      "    Average Contrast  Third moment  Uniformity   Entropy  \n",
      "81          0.943609      0.637912    0.675614  0.740305  \n",
      "\n",
      "Wrong class =  10 \n",
      "Object:      Eccentricity  Aspect Ratio  Elongation  Solidity  Stochastic Convexity  \\\n",
      "90     -1.242729     -0.469523    -0.94124  0.003771              0.488559   \n",
      "\n",
      "    Isoperimetric Factor  Maximal Indentation Depth  Lobedness  \\\n",
      "90              0.147365                  -0.266588  -0.375673   \n",
      "\n",
      "    Average Contrast  Third moment  Uniformity   Entropy  \n",
      "90           1.11754      0.783564    1.210822  0.945484  \n",
      "\n",
      "Wrong class =  10 \n",
      "Object:      Eccentricity  Aspect Ratio  Elongation  Solidity  Stochastic Convexity  \\\n",
      "89      -1.11926     -0.470831   -0.699705 -0.022224              0.442838   \n",
      "\n",
      "    Isoperimetric Factor  Maximal Indentation Depth  Lobedness  \\\n",
      "89              0.040575                  -0.133859  -0.322578   \n",
      "\n",
      "    Average Contrast  Third moment  Uniformity   Entropy  \n",
      "89          1.142222      0.680242    1.319736  1.263855  \n",
      "\n",
      "Wrong class =  12 \n",
      "Object:      Eccentricity  Aspect Ratio  Elongation  Solidity  Stochastic Convexity  \\\n",
      "66      0.728602     -0.144018    0.202623  0.388369              0.488559   \n",
      "\n",
      "    Isoperimetric Factor  Maximal Indentation Depth  Lobedness  \\\n",
      "66              0.326741                   -0.14708  -0.328282   \n",
      "\n",
      "    Average Contrast  Third moment  Uniformity   Entropy  \n",
      "66          0.190229      0.144383   -0.523579  0.408598  \n",
      "\n",
      "Wrong class =  14 \n",
      "Object:       Eccentricity  Aspect Ratio  Elongation  Solidity  Stochastic Convexity  \\\n",
      "244      0.960611      0.087182    0.598567  0.652327              0.488559   \n",
      "\n",
      "     Isoperimetric Factor  Maximal Indentation Depth  Lobedness  \\\n",
      "244              0.224273                  -0.700808   -0.48526   \n",
      "\n",
      "     Average Contrast  Third moment  Uniformity   Entropy  \n",
      "244          1.413724      0.996819    0.930667  1.814933  \n",
      "\n",
      "Wrong class =  1 \n",
      "Object:       Eccentricity  Aspect Ratio  Elongation  Solidity  Stochastic Convexity  \\\n",
      "216      0.066227     -0.360675   -0.843071  0.685998              0.488559   \n",
      "\n",
      "     Isoperimetric Factor  Maximal Indentation Depth  Lobedness  \\\n",
      "216              1.242148                  -0.829034  -0.498833   \n",
      "\n",
      "     Average Contrast  Third moment  Uniformity  Entropy  \n",
      "216         -0.410046     -0.307212   -0.685103 -0.47629  \n",
      "\n",
      "Wrong class =  5 \n",
      "Object:       Eccentricity  Aspect Ratio  Elongation  Solidity  Stochastic Convexity  \\\n",
      "334     -0.188008     -0.482335    1.399353 -1.475916             -2.988295   \n",
      "\n",
      "     Isoperimetric Factor  Maximal Indentation Depth  Lobedness  \\\n",
      "334             -1.797181                    0.90998   0.414947   \n",
      "\n",
      "     Average Contrast  Third moment  Uniformity   Entropy  \n",
      "334          1.156491      0.930142    0.478878  1.186912  \n",
      "\n",
      "Wrong class =  7 \n",
      "Object:      Eccentricity  Aspect Ratio  Elongation  Solidity  Stochastic Convexity  \\\n",
      "18      0.630575     -0.186765   -0.125575  0.715831              0.488559   \n",
      "\n",
      "    Isoperimetric Factor  Maximal Indentation Depth  Lobedness  \\\n",
      "18              0.788099                  -0.865104  -0.501108   \n",
      "\n",
      "    Average Contrast  Third moment  Uniformity  Entropy  \n",
      "18         -1.035369     -0.887837   -0.551486 -0.71965  \n",
      "\n",
      "Wrong class =  32 \n",
      "Object:       Eccentricity  Aspect Ratio  Elongation  Solidity  Stochastic Convexity  \\\n",
      "300      0.170398     -0.297806   -0.548414  0.629037              0.488559   \n",
      "\n",
      "     Isoperimetric Factor  Maximal Indentation Depth  Lobedness  \\\n",
      "300              1.011469                  -0.712901  -0.486906   \n",
      "\n",
      "     Average Contrast  Third moment  Uniformity   Entropy  \n",
      "300         -0.655902     -0.527796   -0.616199 -1.237113  \n",
      "\n",
      "Wrong class =  33 \n",
      "Object:       Eccentricity  Aspect Ratio  Elongation  Solidity  Stochastic Convexity  \\\n",
      "147     -0.221948      -0.40069   -1.061853   0.68783              0.488559   \n",
      "\n",
      "     Isoperimetric Factor  Maximal Indentation Depth  Lobedness  \\\n",
      "147              1.235437                  -0.740961  -0.490432   \n",
      "\n",
      "     Average Contrast  Third moment  Uniformity   Entropy  \n",
      "147          1.031731      0.074041     2.99341  2.302747  \n",
      "\n",
      "Wrong class =  13 \n",
      "Object:       Eccentricity  Aspect Ratio  Elongation  Solidity  Stochastic Convexity  \\\n",
      "238      -0.26088     -0.414964   -1.256349  0.744355              0.488559   \n",
      "\n",
      "     Isoperimetric Factor  Maximal Indentation Depth  Lobedness  \\\n",
      "238              1.079367                  -0.833848  -0.499176   \n",
      "\n",
      "     Average Contrast  Third moment  Uniformity   Entropy  \n",
      "238         -0.966895     -0.776544   -0.775943 -0.922384  \n",
      "\n",
      "Wrong class =  25 \n",
      "Object:      Eccentricity  Aspect Ratio  Elongation  Solidity  Stochastic Convexity  \\\n",
      "22     -0.082205      -0.47337   -0.769957  0.147788               0.38182   \n",
      "\n",
      "    Isoperimetric Factor  Maximal Indentation Depth  Lobedness  \\\n",
      "22              0.341635                  -0.356387  -0.406396   \n",
      "\n",
      "    Average Contrast  Third moment  Uniformity  Entropy  \n",
      "22          1.472151      1.882708    0.040972  0.64028  \n",
      "\n",
      "Wrong class =  32 \n",
      "Object:       Eccentricity  Aspect Ratio  Elongation  Solidity  Stochastic Convexity  \\\n",
      "227      0.507442     -0.288533   -0.199355   0.58769              0.488559   \n",
      "\n",
      "     Isoperimetric Factor  Maximal Indentation Depth  Lobedness  \\\n",
      "227              0.797063                  -0.471566  -0.439644   \n",
      "\n",
      "     Average Contrast  Third moment  Uniformity   Entropy  \n",
      "227         -0.390763     -0.251452   -0.794282 -0.837081  \n",
      "\n",
      "Wrong class =  22 \n",
      "Object:       Eccentricity  Aspect Ratio  Elongation  Solidity  Stochastic Convexity  \\\n",
      "329       0.95413      0.142818    0.681601  0.386188              0.107322   \n",
      "\n",
      "     Isoperimetric Factor  Maximal Indentation Depth  Lobedness  \\\n",
      "329             -0.089061                   0.199414  -0.148797   \n",
      "\n",
      "     Average Contrast  Third moment  Uniformity   Entropy  \n",
      "329          0.162654      0.206943   -0.458912 -0.565611  \n",
      "\n",
      "Wrong class =  28 \n",
      "Object:       Eccentricity  Aspect Ratio  Elongation  Solidity  Stochastic Convexity  \\\n",
      "155      1.047308      0.141779    0.736156  0.582282              0.488559   \n",
      "\n",
      "     Isoperimetric Factor  Maximal Indentation Depth  Lobedness  \\\n",
      "155              0.233099                  -0.793586  -0.495938   \n",
      "\n",
      "     Average Contrast  Third moment  Uniformity   Entropy  \n",
      "155          0.200063     -0.035949   -0.196465  0.091425  \n"
     ]
    }
   ],
   "source": [
    "for i in range(N_test):\n",
    "    leaf = X_test[i:i+1]\n",
    "    cls = y_test[i:i+1]\n",
    "    cls_pred = mlp_model.predict(leaf)\n",
    "    if cls_pred[0] != cls.values[0]:\n",
    "        print(\"\\nWrong class = \",cls_pred[0], \"\\nObject: \", leaf.head())"
   ]
  }
 ],
 "metadata": {
  "kernelspec": {
   "display_name": "Python 3",
   "language": "python",
   "name": "python3"
  },
  "language_info": {
   "codemirror_mode": {
    "name": "ipython",
    "version": 3
   },
   "file_extension": ".py",
   "mimetype": "text/x-python",
   "name": "python",
   "nbconvert_exporter": "python",
   "pygments_lexer": "ipython3",
   "version": "3.6.2"
  }
 },
 "nbformat": 4,
 "nbformat_minor": 2
}
